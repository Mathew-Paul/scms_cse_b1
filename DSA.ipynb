{
  "nbformat": 4,
  "nbformat_minor": 0,
  "metadata": {
    "colab": {
      "provenance": [],
      "authorship_tag": "ABX9TyPLWfu7IYWX/zJHtnJq1DEP",
      "include_colab_link": true
    },
    "kernelspec": {
      "name": "python3",
      "display_name": "Python 3"
    },
    "language_info": {
      "name": "python"
    }
  },
  "cells": [
    {
      "cell_type": "markdown",
      "metadata": {
        "id": "view-in-github",
        "colab_type": "text"
      },
      "source": [
        "<a href=\"https://colab.research.google.com/github/dee-dec17/scms_cse_b1/blob/main/DSA.ipynb\" target=\"_parent\"><img src=\"https://colab.research.google.com/assets/colab-badge.svg\" alt=\"Open In Colab\"/></a>"
      ]
    },
    {
      "cell_type": "code",
      "execution_count": null,
      "metadata": {
        "id": "XAkZ6nUpuOPV"
      },
      "outputs": [],
      "source": []
    },
    {
      "cell_type": "markdown",
      "source": [
        "Ways to Calculate\n",
        "1. good program or bad program\n"
      ],
      "metadata": {
        "id": "mYLwUPFCzybP"
      }
    },
    {
      "cell_type": "markdown",
      "source": [
        "1. good program or bad program\n",
        "\n"
      ],
      "metadata": {
        "id": "mFP3AzIH0JTq"
      }
    },
    {
      "cell_type": "code",
      "source": [
        "# Sum all the numbers from 1 to N:"
      ],
      "metadata": {
        "id": "jU_eYS297yeR"
      },
      "execution_count": null,
      "outputs": []
    },
    {
      "cell_type": "code",
      "source": [
        "function numberSum(N) {\n",
        "  var total = 0;\n",
        "    for(var i = 1; i <= N; i++){\n",
        "      total += i;\n",
        "    }\n",
        "    return total;\n",
        "}"
      ],
      "metadata": {
        "id": "o9Fvudzq0Wgy"
      },
      "execution_count": null,
      "outputs": []
    },
    {
      "cell_type": "code",
      "source": [
        "var res = (n * (n+1)) / 2;"
      ],
      "metadata": {
        "id": "x-mHMVUv0dAp"
      },
      "execution_count": null,
      "outputs": []
    },
    {
      "cell_type": "markdown",
      "source": [
        "2. Count operations"
      ],
      "metadata": {
        "id": "w44nBKVx0SpA"
      }
    },
    {
      "cell_type": "code",
      "source": [
        "a = a + 1\n",
        "\n",
        "=> 2 => O(1)"
      ],
      "metadata": {
        "id": "r9HOdy2cw2y9"
      },
      "execution_count": null,
      "outputs": []
    },
    {
      "cell_type": "code",
      "source": [
        "i = 1\n",
        "i++\n",
        "i = i + 1\n",
        "i = 2"
      ],
      "metadata": {
        "id": "XvCLMyD8_72l"
      },
      "execution_count": null,
      "outputs": []
    },
    {
      "cell_type": "code",
      "source": [
        "sum = 0\n",
        "winner = 1\n",
        "for (i=0; i < N; i++){\n",
        "  sum = sum + i;\n",
        "}\n",
        "\n",
        "=> 3 + n + 2n + n + n => 5n + 3 => O(n)"
      ],
      "metadata": {
        "id": "EqpaI5tTzj58"
      },
      "execution_count": null,
      "outputs": []
    },
    {
      "cell_type": "code",
      "source": [
        "for (i=0; i < N; i++){\n",
        "  sum = sum + i;\n",
        "}\n",
        "\n",
        " a = a + 2\n",
        "\n",
        " for (i=0; i < N; i++){\n",
        "  sum = sum + i;\n",
        "}\n",
        "\n",
        "4 + 5n + 5n => 10n + 4 => O(n)"
      ],
      "metadata": {
        "id": "hOQUtGcQ-ITp"
      },
      "execution_count": null,
      "outputs": []
    },
    {
      "cell_type": "code",
      "source": [
        "Arrays - integer array, string array, boolean array - operation : inserting and deleting elements\n",
        "Strings - we store a string as an array of characters.\n",
        "Stacks - Last In First Out - 1. Push 2. Pop 3. Peek 4. IsEmpty 5. IsFull\n",
        "Queues - First In First Out - 1. Enqueue 2. Dequeue 3. Front 4. Rear 5. IsEmpty 6. IsFull\n",
        "Trees - AVL, Binary trees,\n",
        "Graphs - nodes and edges"
      ],
      "metadata": {
        "id": "Ta_ouSPSBlXB"
      },
      "execution_count": null,
      "outputs": []
    },
    {
      "cell_type": "code",
      "source": [
        "word = \"hello\"\n",
        "\n",
        "stack = hello\n",
        "\n",
        "rev_string = olleh"
      ],
      "metadata": {
        "id": "S7gxeCFgHKf-"
      },
      "execution_count": null,
      "outputs": []
    },
    {
      "cell_type": "code",
      "source": [
        "# 1. Reverse a string\n",
        "\"\"\"\n",
        "st = input(\"Enter : \")\n",
        "rev = \"\"\n",
        "for i in st:\n",
        "  rev = i + rev\n",
        "print(rev)\n",
        "\"\"\"\n",
        "##############\n",
        "st = input(\"Enter : \")\n",
        "print(st[::-1])"
      ],
      "metadata": {
        "colab": {
          "base_uri": "https://localhost:8080/"
        },
        "id": "-druhxVc-IH1",
        "outputId": "365167c1-6861-4ff9-a6e7-918b0dc525e0"
      },
      "execution_count": null,
      "outputs": [
        {
          "output_type": "stream",
          "name": "stdout",
          "text": [
            "Enter : helloram\n",
            "marolleh\n"
          ]
        }
      ]
    },
    {
      "cell_type": "code",
      "source": [],
      "metadata": {
        "id": "zwwPvKRY-IBI"
      },
      "execution_count": null,
      "outputs": []
    },
    {
      "cell_type": "code",
      "source": [],
      "metadata": {
        "id": "cKZRGFM4-H2i"
      },
      "execution_count": null,
      "outputs": []
    },
    {
      "cell_type": "markdown",
      "source": [
        "#STACK"
      ],
      "metadata": {
        "id": "QYauXyBV1bnB"
      }
    },
    {
      "cell_type": "markdown",
      "source": [],
      "metadata": {
        "id": "9drxMMLZ7C_u"
      }
    },
    {
      "cell_type": "markdown",
      "source": [
        "   \n",
        "   \n",
        "    1. push() to insert an element into the stack\n",
        "    2. pop() to remove an element from the stack\n",
        "    3. top() Returns the top element of the stack.\n",
        "    4. isEmpty() returns true if stack is empty else false.\n",
        "    5. isFull() returns true if the stack is full else false."
      ],
      "metadata": {
        "id": "JC6c7-Mk5pKk"
      }
    },
    {
      "cell_type": "markdown",
      "source": [
        "Basic Operations on Queue:\n",
        "\n",
        "    1. enqueue(): Inserts an element at the end of the queue i.e. at the rear end.\n",
        "    2. dequeue(): This operation removes and returns an element that is at the front end of the queue.\n",
        "    3. front(): This operation returns the element at the front end without removing it.\n",
        "    4. rear(): This operation returns the element at the rear end without removing it.\n",
        "    5. isEmpty(): This operation indicates whether the queue is empty or not.\n",
        "    6. isFull(): This operation indicates whether the queue is full or not.\n",
        "    7. size(): This operation returns the size of the queue i.e. the total number of elements it contains.  \n"
      ],
      "metadata": {
        "id": "b9i8-EtT38Uf"
      }
    },
    {
      "cell_type": "code",
      "source": [
        "Accuraccy and speed to solve comes over pratcise:\n",
        "Plan to Solve a Problem:\n",
        "1. Read the Problem Word by Word\n",
        "2. Understand the Problem\n",
        "3. Break it Down\n",
        "4. Solve or at least simplify\n",
        "5. Repeat - if possible"
      ],
      "metadata": {
        "id": "4VtPxuOY36Wp"
      },
      "execution_count": null,
      "outputs": []
    },
    {
      "cell_type": "code",
      "source": [
        "# Hello, how are you?"
      ],
      "metadata": {
        "id": "SriBJWfpD2b6"
      },
      "execution_count": null,
      "outputs": []
    },
    {
      "cell_type": "code",
      "source": [
        "WAP to input a string from the user and print the character count in the string.\n",
        "\"\"\"\n",
        "--> User story:\n",
        "1. don't directly jump into coding\n",
        "2. Ask questions\n",
        "3. What if empty string is provided\n",
        "4. Should be case insensitive\n",
        "5. should you count digits.\n",
        "\"\"\""
      ],
      "metadata": {
        "id": "DCuU6U4222Nj"
      },
      "execution_count": null,
      "outputs": []
    },
    {
      "cell_type": "markdown",
      "source": [],
      "metadata": {
        "id": "cj0naOyA70Pz"
      }
    },
    {
      "cell_type": "code",
      "source": [
        "string  = input(\"Enter the input\")\n",
        "string = string.lower()\n",
        "char_count = {}\n",
        "for i in string:\n",
        "  if i.isalpha():\n",
        "    if i in char_count:\n",
        "      char_count[i] += 1\n",
        "    else:\n",
        "      char_count[i] = 1\n",
        "\n",
        "print(char_count)"
      ],
      "metadata": {
        "colab": {
          "base_uri": "https://localhost:8080/"
        },
        "id": "azbRd8NA7zgp",
        "outputId": "1390dbd1-9c8d-4931-a136-dcd4587974d4"
      },
      "execution_count": null,
      "outputs": [
        {
          "output_type": "stream",
          "name": "stdout",
          "text": [
            "Enter the inputHello, how are you?\n",
            "{'h': 2, 'e': 2, 'l': 2, 'o': 3, 'w': 1, 'a': 1, 'r': 1, 'y': 1, 'u': 1}\n"
          ]
        }
      ]
    },
    {
      "cell_type": "code",
      "source": [
        "num = int(input(\"Enter the number\"))\n",
        "temp = num\n",
        "bin=\"\"\n",
        "count=0\n",
        "while(num>0):\n",
        "  rem = num % 2\n",
        "  bin = str(rem) + bin\n",
        "  num = num // 2\n",
        "  if(rem == 1):\n",
        "    count +=1\n",
        "print(bin)\n",
        "print(\"Set bits are :\",count)"
      ],
      "metadata": {
        "colab": {
          "base_uri": "https://localhost:8080/"
        },
        "id": "LsOnQU0dL5Pp",
        "outputId": "690d3c10-cd38-4f98-d253-18a7ad98c7bb"
      },
      "execution_count": null,
      "outputs": [
        {
          "output_type": "stream",
          "name": "stdout",
          "text": [
            "Enter the number15\n",
            "1111\n",
            "Set bits are : 4\n"
          ]
        }
      ]
    },
    {
      "cell_type": "code",
      "source": [
        "& | >> <<"
      ],
      "metadata": {
        "id": "zvh8pJrwMXwP"
      },
      "execution_count": null,
      "outputs": []
    },
    {
      "cell_type": "code",
      "source": [
        "# Print the number of set bits for the given number\n",
        "# 16 -> 10000 -> 1\n",
        "# 15 -> 01111 -> 4\n",
        "# & - and\n",
        "# | - or\n",
        "# >> - right shift\n",
        "# << - left shift\n",
        "\n",
        "def  countSetBits(n):\n",
        "    count = 0\n",
        "    while (n):\n",
        "        count += n & 1\n",
        "        n >>= 1\n",
        "    return count\n",
        "\n",
        "countSetBits(int(input(\"Enter the number: \")))"
      ],
      "metadata": {
        "colab": {
          "base_uri": "https://localhost:8080/"
        },
        "id": "wOfl7bxKKOv9",
        "outputId": "819585ae-08c5-43b7-b193-0b8cdb9e0b18"
      },
      "execution_count": null,
      "outputs": [
        {
          "name": "stdout",
          "output_type": "stream",
          "text": [
            "Enter the number: 15\n"
          ]
        },
        {
          "output_type": "execute_result",
          "data": {
            "text/plain": [
              "4"
            ]
          },
          "metadata": {},
          "execution_count": 6
        }
      ]
    },
    {
      "cell_type": "code",
      "source": [
        "count = 0\n",
        "n = int(input(\"Enter the number: \"))\n",
        "while (n):\n",
        "  count += n & 1\n",
        "  n >>= 1\n",
        "print(count)\n",
        "\n",
        "if count%2 ==0:\n",
        "  print (\"odd\")\n",
        "else:\n",
        "  print (\"even\")"
      ],
      "metadata": {
        "colab": {
          "base_uri": "https://localhost:8080/"
        },
        "id": "MrnUKTshRDGS",
        "outputId": "6748f0e8-e8ee-4f24-ab09-22cd5122611c"
      },
      "execution_count": null,
      "outputs": [
        {
          "output_type": "stream",
          "name": "stdout",
          "text": [
            "Enter the number: 12\n",
            "2\n",
            "odd\n"
          ]
        }
      ]
    },
    {
      "cell_type": "code",
      "source": [
        "# Using Bitwise Operators print wheather the number is even or odd.\n",
        "# 3 - odd\n",
        "# 4 - even\n",
        "# 11 - even\n",
        "# 1 - True , 0 - False for conditional statements\n",
        "\n",
        "def even_odd(n):\n",
        "  if n & 1:\n",
        "    print(\"odd\")\n",
        "  else:\n",
        "    print(\"even\")\n",
        "\n",
        "even_odd(int(input(\"Enter the number: \")))\n"
      ],
      "metadata": {
        "id": "NNYmY7JrPOk5"
      },
      "execution_count": null,
      "outputs": []
    },
    {
      "cell_type": "markdown",
      "source": [
        "Recursion"
      ],
      "metadata": {
        "id": "rcpaGUf_71x-"
      }
    },
    {
      "cell_type": "code",
      "source": [],
      "metadata": {
        "id": "SDIurkOp7-3i"
      },
      "execution_count": null,
      "outputs": []
    },
    {
      "cell_type": "code",
      "source": [
        "Function that calls itself, with a failure condition.\n",
        "\n",
        "function(params){\n",
        "    if(some_condition){\n",
        "        ........\n",
        "        ....../..\n",
        "        condition_change\n",
        "        function(params)\n",
        "        .......\n",
        "        ......\n",
        "    }\n",
        "}\n",
        "\n",
        "1. Trace Forward\n",
        "2. Trace Backward"
      ],
      "metadata": {
        "id": "MsGfrlVU8XjH"
      },
      "execution_count": null,
      "outputs": []
    },
    {
      "cell_type": "code",
      "source": [
        "Function(n)\n",
        "{\n",
        "    if(n > 0){\n",
        "        print('woo',n)\n",
        "        Function(n-1)\n",
        "    }\n",
        "}\n",
        "\n",
        "main(){\n",
        "    n = 3\n",
        "    Function(n)\n",
        "}"
      ],
      "metadata": {
        "id": "781vKFfK8De_"
      },
      "execution_count": null,
      "outputs": []
    },
    {
      "cell_type": "code",
      "source": [
        "Function(n)\n",
        "{\n",
        "    if(n > 0){\n",
        "        Function(n-1)\n",
        "        print('woo',n)\n",
        "    }\n",
        "}\n",
        "\n",
        "main(){\n",
        "    n = 3\n",
        "    Function(n)\n",
        "}"
      ],
      "metadata": {
        "id": "3H5Me7XV-QS3"
      },
      "execution_count": null,
      "outputs": []
    },
    {
      "cell_type": "code",
      "source": [
        "# Find factorial of a number using recursion.\n",
        "# 1! = 1\n",
        "# 2! = 1 * 2 = 2\n",
        "# 3! = 2 * 3 = 6\n",
        "# 4! = 6 * 4 = 24\n",
        "# 5! = 24 * 5 = 120\n",
        "\n",
        "def fact(n):\n",
        "  if n == 1:\n",
        "    return 1\n",
        "  return n * fact(n-1)\n",
        "\n",
        "n = int(input(\"Enter the number: \"))\n",
        "if n < 0:\n",
        "  print(\"Factorial does not exist for negative numbers\")\n",
        "elif n == 0:\n",
        "  print(\"The factorial of 0 is 1\")\n",
        "else:\n",
        "  print(\"The factorial of {} is {}\".format(n,fact(n)))"
      ],
      "metadata": {
        "colab": {
          "base_uri": "https://localhost:8080/"
        },
        "id": "ITmicKXzY3RA",
        "outputId": "7967c528-3552-4125-cada-09edd7e1e377"
      },
      "execution_count": null,
      "outputs": [
        {
          "output_type": "stream",
          "name": "stdout",
          "text": [
            "Enter the number: 5\n",
            "The factorial of 5 is 120\n"
          ]
        }
      ]
    },
    {
      "cell_type": "markdown",
      "source": [
        "Practise for 21-06-24\n",
        "1. Create a Python code to check if a given string is a palindrome.\n",
        "2. Write a program that convertes a given number of days into year, weeks, and days.\n",
        "3. Implement a program that swaps the values of two variables.\n",
        "4. Implement a function to check if a given year is a leap year or not."
      ],
      "metadata": {
        "id": "7HKSSl6Naa20"
      }
    },
    {
      "cell_type": "code",
      "source": [
        "Input : [2, 7, 3, 2, 7, 9, 6, 9,3]\n",
        "ouptut : 6"
      ],
      "metadata": {
        "id": "s2Xj5nFAbQ_W"
      },
      "execution_count": null,
      "outputs": []
    },
    {
      "cell_type": "code",
      "source": [
        "def find_missing_ele(nums):\n",
        "  result = 0\n",
        "  for i in nums:\n",
        "    result ^= i\n",
        "  return result\n",
        "\n",
        "nums = [2, 7, 3, 2, 7, 9, 6, 9,3]\n",
        "print(find_missing_ele(nums))"
      ],
      "metadata": {
        "id": "84_9S6DU5utK",
        "outputId": "4f9c3a2a-101a-48f6-869c-18940c499d6f",
        "colab": {
          "base_uri": "https://localhost:8080/"
        }
      },
      "execution_count": 10,
      "outputs": [
        {
          "output_type": "stream",
          "name": "stdout",
          "text": [
            "6\n"
          ]
        }
      ]
    },
    {
      "cell_type": "markdown",
      "source": [],
      "metadata": {
        "id": "201b1f0Q9sO8"
      }
    },
    {
      "cell_type": "code",
      "source": [
        "Example 1:\n",
        "Input: nums = [2,7,11,15], target = 9\n",
        "Output: [0,1]\n",
        "Explanation: Because nums[0] + nums[1] == 9, we return [0, 1].\n",
        "Example 2:\n",
        "\n",
        "Input: nums = [3,2,4], target = 6\n",
        "Output: [1,2]\n",
        "Example 3:\n",
        "\n",
        "Input: nums = [3,3], target = 6\n",
        "Output: [0,1]\n",
        "\n",
        "[1,2,3,[4,5,6]\n",
        " 0 + 2 + 1 = 3"
      ],
      "metadata": {
        "id": "Uf48KPrs9tS5"
      },
      "execution_count": null,
      "outputs": []
    },
    {
      "cell_type": "code",
      "source": [
        "def find_the_pair(nums, target):\n",
        "  for i in range(len(nums)):\n",
        "    x = target - nums[i]\n",
        "    if x in nums[i+1:]:\n",
        "        li = [i]\n",
        "        li.append(nums[i+1:].index(x) + i + 1)\n",
        "  return li"
      ],
      "metadata": {
        "id": "VLhyDjvI5vSC"
      },
      "execution_count": null,
      "outputs": []
    },
    {
      "cell_type": "code",
      "source": [
        "Input: n = 10, m = 3\n",
        "Output: 19\n",
        "[1,2,....10]\n",
        "num1 = sum of all numbers not divisible by m\n",
        "num2 = sum of all numbers divisible by m\n",
        "\n",
        "ouptut = num1 - num2\n",
        "\n",
        "1 + 2 + 3 ..... n = n * (n + 1) / 2\n",
        "x = n // m\n",
        "multiplies of = 3, 6, 9  = 3* 1, 3*2, 3*3 = m*1, m*2, m*3,..... m*(n//m) = m * x * (x + 1) / 2\n",
        "total = n * (n + 1) / 2\n",
        "total = num1 + num2\n",
        "\n",
        "num1 = total - num2\n",
        "\n",
        "result = num1 - num2 => total - num2 - num2 => total - 2 * num2"
      ],
      "metadata": {
        "id": "AHNKFMcLDJEl"
      },
      "execution_count": null,
      "outputs": []
    },
    {
      "cell_type": "code",
      "source": [
        "def calculate_difference(n, m):\n",
        "  num1 = 0\n",
        "  num2 = 0\n",
        "  for i in range(1, n + 1):\n",
        "    if i % m == 0:\n",
        "      num2 += i\n",
        "    else:\n",
        "      num1 += i\n",
        "  return num1 - num2\n",
        "\n",
        "n = 5\n",
        "m = 6\n",
        "result = calculate_difference(n, m)\n",
        "print(result)"
      ],
      "metadata": {
        "id": "tq8ziK72CYMG",
        "outputId": "501bdcf8-be02-4048-9245-43265b56f659",
        "colab": {
          "base_uri": "https://localhost:8080/"
        }
      },
      "execution_count": 13,
      "outputs": [
        {
          "output_type": "stream",
          "name": "stdout",
          "text": [
            "15\n"
          ]
        }
      ]
    },
    {
      "cell_type": "code",
      "source": [],
      "metadata": {
        "id": "3gsPgvAyCiez"
      },
      "execution_count": null,
      "outputs": []
    }
  ]
}